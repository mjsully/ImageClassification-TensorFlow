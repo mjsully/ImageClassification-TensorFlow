{
 "cells": [
  {
   "cell_type": "code",
   "execution_count": 8,
   "metadata": {},
   "outputs": [],
   "source": [
    "# importing libraries \n",
    "from keras.preprocessing.image import ImageDataGenerator \n",
    "from keras.models import Sequential \n",
    "from keras.layers import Conv2D, MaxPooling2D \n",
    "from keras.layers import Activation, Dropout, Flatten, Dense \n",
    "from keras import backend as K \n",
    "\n",
    "import tensorflow as tf\n",
    "\n",
    "#from tensorflow.python.client import device_lib\n",
    "#print(device_lib.list_local_devices())\n",
    "#print(tf.test.is_gpu_available())\n",
    "#print(tf.test.is_built_with_cuda())\n",
    "\n",
    "import matplotlib.pyplot as plt\n",
    "import numpy as np"
   ]
  },
  {
   "cell_type": "code",
   "execution_count": 9,
   "metadata": {},
   "outputs": [],
   "source": [
    "img_width, img_height = 256, 256\n",
    "  \n",
    "train_data_dir = '/content/gdrive/My Drive/Marmot_Videos/Training_Data/train'\n",
    "validation_data_dir = '/content/gdrive/My Drive/Marmot_Videos/Training_Data/test'\n",
    "nb_train_samples = 200\n",
    "nb_validation_samples = 40\n",
    "epochs = 10\n",
    "batch_size = 16"
   ]
  },
  {
   "cell_type": "code",
   "execution_count": 10,
   "metadata": {},
   "outputs": [],
   "source": [
    "if K.image_data_format() == 'channels_first': \n",
    "    input_shape = (3, img_width, img_height) \n",
    "else: \n",
    "    input_shape = (img_width, img_height, 3)"
   ]
  },
  {
   "cell_type": "code",
   "execution_count": 11,
   "metadata": {},
   "outputs": [],
   "source": [
    "def CNN():\n",
    "    \n",
    "    model = Sequential() \n",
    "    model.add(Conv2D(32, (2, 2), input_shape = input_shape)) \n",
    "    model.add(Activation('relu')) \n",
    "    model.add(MaxPooling2D(pool_size =(2, 2))) \n",
    "\n",
    "    model.add(Conv2D(32, (2, 2))) \n",
    "    model.add(Activation('relu')) \n",
    "    model.add(MaxPooling2D(pool_size =(2, 2))) \n",
    "\n",
    "    model.add(Conv2D(64, (2, 2))) \n",
    "    model.add(Activation('relu')) \n",
    "    model.add(MaxPooling2D(pool_size =(2, 2))) \n",
    "\n",
    "    model.add(Flatten()) \n",
    "    model.add(Dense(64)) \n",
    "    model.add(Activation('relu')) \n",
    "    model.add(Dropout(0.5)) \n",
    "    model.add(Dense(1)) \n",
    "    model.add(Activation('sigmoid')) \n",
    "    \n",
    "    return model"
   ]
  },
  {
   "cell_type": "code",
   "execution_count": 12,
   "metadata": {},
   "outputs": [],
   "source": [
    "model = CNN()"
   ]
  },
  {
   "cell_type": "code",
   "execution_count": 14,
   "metadata": {},
   "outputs": [],
   "source": [
    "model.compile(loss ='binary_crossentropy', optimizer ='rmsprop', metrics =['accuracy']) "
   ]
  },
  {
   "cell_type": "code",
   "execution_count": 15,
   "metadata": {},
   "outputs": [],
   "source": [
    "train_datagen = ImageDataGenerator(\n",
    "                rescale = 1. / 255, \n",
    "                shear_range = 0.1, \n",
    "                zoom_range = 0.1, \n",
    "            #horizontal_flip = True) \n",
    ")"
   ]
  },
  {
   "cell_type": "code",
   "execution_count": 16,
   "metadata": {},
   "outputs": [],
   "source": [
    "test_datagen = ImageDataGenerator(rescale = 1. / 255) "
   ]
  },
  {
   "cell_type": "code",
   "execution_count": null,
   "metadata": {},
   "outputs": [],
   "source": [
    "train_generator = train_datagen.flow_from_directory(train_data_dir, \n",
    "                              target_size =(img_width, img_height), \n",
    "                     batch_size = batch_size, class_mode ='binary')"
   ]
  }
 ],
 "metadata": {
  "kernelspec": {
   "display_name": "Python 3",
   "language": "python",
   "name": "python3"
  },
  "language_info": {
   "codemirror_mode": {
    "name": "ipython",
    "version": 3
   },
   "file_extension": ".py",
   "mimetype": "text/x-python",
   "name": "python",
   "nbconvert_exporter": "python",
   "pygments_lexer": "ipython3",
   "version": "3.6.8"
  }
 },
 "nbformat": 4,
 "nbformat_minor": 2
}
