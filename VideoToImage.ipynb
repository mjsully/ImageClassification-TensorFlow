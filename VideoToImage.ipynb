{
 "cells": [
  {
   "cell_type": "code",
   "execution_count": null,
   "metadata": {},
   "outputs": [],
   "source": [
    "import numpy as np\n",
    "import cv2, os"
   ]
  },
  {
   "cell_type": "code",
   "execution_count": null,
   "metadata": {},
   "outputs": [],
   "source": [
    "print(cv2.__version__)"
   ]
  },
  {
   "cell_type": "code",
   "execution_count": null,
   "metadata": {},
   "outputs": [],
   "source": [
    "rawdatapath = '/home/matt/DockerStorage/MarmotNet/Input'\n",
    "outputpath  = '/home/matt/DockerStorage/MarmotNet/Training_Data/'\n",
    "framelimit = 100000\n",
    "frameskip = 10\n",
    "!mkdir '/home/matt/DockerStorage/MarmotNet/Training_Data/train/'\n",
    "!mkdir '/home/matt/DockerStorage/MarmotNet/Training_Data/test/'\n",
    "!mkdir '/home/matt/DockerStorage/MarmotNet/Training_Data/validate/'\n",
    "\n",
    "testtrainsplit = 0.3"
   ]
  },
  {
   "cell_type": "code",
   "execution_count": null,
   "metadata": {},
   "outputs": [],
   "source": [
    "def save_frames(file_path, file_index, save_path):\n",
    "\n",
    "  cam = cv2.VideoCapture(file_path)\n",
    "  classif = file_path.split('/')[-2]\n",
    "\n",
    "  index = 0\n",
    "  while index < framelimit:\n",
    "    ret,frame = cam.read() \n",
    "    name = ''\n",
    "    rand = np.random.uniform(0,1)\n",
    "    if rand < testtrainsplit:\n",
    "      name = '{}/{}/{}_file{}_frame{}.jpg'.format(outputpath, 'test', classif, file_index, index)\n",
    "    elif rand > 0.9:   \n",
    "      name = '{}/{}/{}_file{}_frame{}.jpg'.format(outputpath, 'validate', classif, file_index, index)  \n",
    "    else:\n",
    "      name = '{}/{}/{}_file{}_frame{}.jpg'.format(outputpath, 'train', classif, file_index, index)  \n",
    "    if ret and index % frameskip == 0:\n",
    "      cv2.imwrite(name, frame)\n",
    "      print(name)\n",
    "    index += 1  "
   ]
  },
  {
   "cell_type": "code",
   "execution_count": null,
   "metadata": {},
   "outputs": [],
   "source": [
    "for folder in os.listdir(rawdatapath):\n",
    "\n",
    "  temp_folder = '{}/{}'.format(rawdatapath,folder)\n",
    "  temp_dir = os.listdir(temp_folder)\n",
    "  #print(temp_folder)\n",
    "\n",
    "  for index, file in enumerate(temp_dir):\n",
    "\n",
    "    #print('{}: {}'.format(index, ))\n",
    "    save_frames('{}/{}'.format(temp_folder, file), index, outputpath)"
   ]
  },
  {
   "cell_type": "code",
   "execution_count": null,
   "metadata": {},
   "outputs": [],
   "source": [
    "!mkdir '/home/matt/DockerStorage/MarmotNet/Training_Data/train/A_herself'\n",
    "!mkdir '/home/matt/DockerStorage/MarmotNet/Training_Data/train/Bowtie_himself'\n",
    "!mkdir '/home/matt/DockerStorage/MarmotNet/Training_Data/test/A_herself'\n",
    "!mkdir '/home/matt/DockerStorage/MarmotNet/Training_Data/test/Bowtie_himself'\n",
    "!mkdir '/home/matt/DockerStorage/MarmotNet/Training_Data/validate/A_herself'\n",
    "!mkdir '/home/matt/DockerStorage/MarmotNet/Training_Data/validate/Bowtie_himself'"
   ]
  },
  {
   "cell_type": "code",
   "execution_count": null,
   "metadata": {},
   "outputs": [],
   "source": [
    "!mv '/home/matt/DockerStorage/MarmotNet/Training_Data/train/A_herself*.jpg' '/home/matt/DockerStorage/MarmotNet/Training_Data/train/A_herself'\n",
    "!mv '/home/matt/DockerStorage/MarmotNet/Training_Data/train/Bowtie_himself*.jpg' '/home/matt/DockerStorage/MarmotNet/Training_Data/train/Bowtie_himself'\n",
    "!mv '/home/matt/DockerStorage/MarmotNet/Training_Data/test/A_herself*.jpg' '/home/matt/DockerStorage/MarmotNet/Training_Data/test/A_herself'\n",
    "!mv '/home/matt/DockerStorage/MarmotNet/Training_Data/test/Bowtie_himself*.jpg' '/home/matt/DockerStorage/MarmotNet/Training_Data/test/Bowtie_himself'\n",
    "!mv '/home/matt/DockerStorage/MarmotNet/Training_Data/validate/A_herself*.jpg' '/home/matt/DockerStorage/MarmotNet/Training_Data/validate/A_herself'\n",
    "!mv '/home/matt/DockerStorage/MarmotNet/Training_Data/validate/Bowtie_himself*.jpg' '/home/matt/DockerStorage/MarmotNet/Training_Data/validate/Bowtie_himself'"
   ]
  },
  {
   "cell_type": "code",
   "execution_count": null,
   "metadata": {},
   "outputs": [],
   "source": []
  }
 ],
 "metadata": {
  "kernelspec": {
   "display_name": "Python 3",
   "language": "python",
   "name": "python3"
  },
  "language_info": {
   "codemirror_mode": {
    "name": "ipython",
    "version": 3
   },
   "file_extension": ".py",
   "mimetype": "text/x-python",
   "name": "python",
   "nbconvert_exporter": "python",
   "pygments_lexer": "ipython3",
   "version": "3.6.8"
  }
 },
 "nbformat": 4,
 "nbformat_minor": 2
}
